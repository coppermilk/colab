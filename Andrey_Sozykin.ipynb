{
  "nbformat": 4,
  "nbformat_minor": 0,
  "metadata": {
    "colab": {
      "provenance": [],
      "toc_visible": true,
      "authorship_tag": "ABX9TyPGPzNPjUG2rkjhjfAI6OAz",
      "include_colab_link": true
    },
    "kernelspec": {
      "name": "python3",
      "display_name": "Python 3"
    },
    "language_info": {
      "name": "python"
    }
  },
  "cells": [
    {
      "cell_type": "markdown",
      "metadata": {
        "id": "view-in-github",
        "colab_type": "text"
      },
      "source": [
        "<a href=\"https://colab.research.google.com/github/coppermilk/colab/blob/main/Andrey_Sozykin.ipynb\" target=\"_parent\"><img src=\"https://colab.research.google.com/assets/colab-badge.svg\" alt=\"Open In Colab\"/></a>"
      ]
    },
    {
      "cell_type": "markdown",
      "source": [
        "# Представление текста в цифровом виде для нейросети "
      ],
      "metadata": {
        "id": "48rNNOL0Fira"
      }
    },
    {
      "cell_type": "markdown",
      "source": [
        "# Анализ тональности отзывов на фильмы IMDB | Нейросети для анализа текстов"
      ],
      "metadata": {
        "id": "BGRVq0CvLHt6"
      }
    },
    {
      "cell_type": "code",
      "execution_count": 2,
      "metadata": {
        "id": "hr5zUnWhD1VI"
      },
      "outputs": [],
      "source": [
        "from tensorflow.keras.datasets import imdb\n",
        "from tensorflow.keras.models import Sequential\n",
        "from tensorflow.keras.layers import Dense\n",
        "from tensorflow.keras import utils\n",
        "from tensorflow.keras.preprocessing.sequence import pad_sequences\n",
        "import numpy as np\n",
        "import matplotlib.pyplot as plt\n",
        "%matplotlib inline "
      ]
    },
    {
      "cell_type": "code",
      "source": [
        "max_words = 20000\n",
        "(x_train, y_train), (x_test, y_test) = imdb.load_data(num_words=max_words)"
      ],
      "metadata": {
        "id": "yZdWbSziLZYM"
      },
      "execution_count": 39,
      "outputs": []
    },
    {
      "cell_type": "code",
      "source": [
        "x_train[3]"
      ],
      "metadata": {
        "id": "YM5eKU1lLrv-"
      },
      "execution_count": null,
      "outputs": []
    },
    {
      "cell_type": "code",
      "source": [
        "y_train[3]"
      ],
      "metadata": {
        "colab": {
          "base_uri": "https://localhost:8080/"
        },
        "id": "bgbrWRsmL8tq",
        "outputId": "39b3e264-c366-4a80-ed59-e67e4e4944eb"
      },
      "execution_count": 5,
      "outputs": [
        {
          "output_type": "execute_result",
          "data": {
            "text/plain": [
              "1"
            ]
          },
          "metadata": {},
          "execution_count": 5
        }
      ]
    },
    {
      "cell_type": "code",
      "source": [
        "word_index = imdb.get_word_index()\n",
        "word_index"
      ],
      "metadata": {
        "id": "tfBisYqHMEMY"
      },
      "execution_count": null,
      "outputs": []
    },
    {
      "cell_type": "code",
      "source": [
        "reverse_word_index = dict()\n",
        "for key, value in word_index.items():\n",
        "  reverse_word_index[value] = key"
      ],
      "metadata": {
        "id": "WwO8Ma_QMQey"
      },
      "execution_count": 8,
      "outputs": []
    },
    {
      "cell_type": "code",
      "source": [
        "for i in range(1, 21):\n",
        "  print(i, '->',reverse_word_index[i])"
      ],
      "metadata": {
        "id": "5wxlRPy2Mdf9"
      },
      "execution_count": null,
      "outputs": []
    },
    {
      "cell_type": "code",
      "source": [
        "index = 3\n",
        "message = \"\"\n",
        "\n",
        "for code in x_train[index]:\n",
        "  word = reverse_word_index.get(code - 3, '?')\n",
        "  message += word + ' '\n",
        "message"
      ],
      "metadata": {
        "colab": {
          "base_uri": "https://localhost:8080/",
          "height": 140
        },
        "id": "0-RxgkwINAq4",
        "outputId": "5872f999-5369-4643-bcfa-ab7d63396f1c"
      },
      "execution_count": 40,
      "outputs": [
        {
          "output_type": "execute_result",
          "data": {
            "text/plain": [
              "\"? the scots excel at storytelling the traditional sort many years after the event i can still see in my mind's eye an elderly lady my friend's mother retelling the battle of ? she makes the characters come alive her passion is that of an eye witness one to the events on the ? heath a mile or so from where she lives br br of course it happened many years before she was born but you wouldn't guess from the way she tells it the same story is told in bars the length and ? of scotland as i discussed it with a friend one night in ? a local cut in to give his version the discussion continued to closing time br br stories passed down like this become part of our being who doesn't remember the stories our parents told us when we were children they become our invisible world and as we grow older they maybe still serve as inspiration or as an emotional reservoir fact and fiction blend with ? role models warning stories ? magic and mystery br br my name is ? like my grandfather and his grandfather before him our protagonist introduces himself to us and also introduces the story that stretches back through generations it produces stories within stories stories that evoke the impenetrable wonder of scotland its rugged mountains shrouded in ? the stuff of legend yet ? is rooted in reality this is what gives it its special charm it has a rough beauty and authenticity tempered with some of the finest gaelic singing you will ever hear br br ? angus visits his grandfather in hospital shortly before his death he burns with frustration part of him yearns to be in the twenty first century to hang out in ? but he is raised on the western ? among a gaelic speaking community br br yet there is a deeper conflict within him he yearns to know the truth the truth behind his ? ancient stories where does fiction end and he wants to know the truth behind the death of his parents br br he is pulled to make a last fateful journey to the ? of one of ? most ? mountains can the truth be told or is it all in stories br br in this story about stories we revisit bloody battles poisoned lovers the folklore of old and the sometimes more treacherous folklore of accepted truth in doing so we each connect with angus as he lives the story of his own life br br ? the ? pinnacle is probably the most honest unpretentious and genuinely beautiful film of scotland ever made like angus i got slightly annoyed with the pretext of hanging stories on more stories but also like angus i ? this once i saw the ? picture ' forget the box office pastiche of braveheart and its like you might even ? the justly famous ? of the wicker man to see a film that is true to scotland this one is probably unique if you maybe ? on it deeply enough you might even re evaluate the power of storytelling and the age old question of whether there are some truths that cannot be told but only experienced \""
            ],
            "application/vnd.google.colaboratory.intrinsic+json": {
              "type": "string"
            }
          },
          "metadata": {},
          "execution_count": 40
        }
      ]
    },
    {
      "cell_type": "code",
      "source": [
        "maxlen = 200\n",
        "\n",
        "x_train = pad_sequences(x_train, maxlen=maxlen, padding='post')\n",
        "x_test = pad_sequences(x_test, maxlen=maxlen, padding='post')"
      ],
      "metadata": {
        "id": "fbqEqWffOKfN"
      },
      "execution_count": 41,
      "outputs": []
    },
    {
      "cell_type": "code",
      "source": [
        "x_train[3]"
      ],
      "metadata": {
        "colab": {
          "base_uri": "https://localhost:8080/"
        },
        "id": "sl1XZaELOoS_",
        "outputId": "c8e6f963-d558-4630-c432-bb88f771bf91"
      },
      "execution_count": 42,
      "outputs": [
        {
          "output_type": "execute_result",
          "data": {
            "text/plain": [
              "array([    4,   341,     7,    27,   846,    10,    10,    29,     9,\n",
              "        1906,     8,    97,     6,   236, 11120,  1311,     8,     4,\n",
              "           2,     7,    31,     7,     2,    91,     2,  3987,    70,\n",
              "           4,   882,    30,   579,    42,     9,    12,    32,    11,\n",
              "         537,    10,    10,    11,    14,    65,    44,   537,    75,\n",
              "       11876,  1775,  3353, 12716,  1846,     4, 11286,     7,   154,\n",
              "           5,     4,   518,    53, 13243, 11286,     7,  3211,   882,\n",
              "          11,   399,    38,    75,   257,  3807,    19, 18223,    17,\n",
              "          29,   456,     4,    65,     7,    27,   205,   113,    10,\n",
              "          10,     2,     4,     2, 10359,     9,   242,     4,    91,\n",
              "        1202, 11377,     5,  2070,   307,    22,     7,  5168,   126,\n",
              "          93,    40, 18223,    13,   188,  1076,  3222,    19,     4,\n",
              "       13465,     7,  2348,   537,    23,    53,   537,    21,    82,\n",
              "          40, 18223,    13,     2,    14,   280,    13,   219,     4,\n",
              "           2,   431,   758,   859,     4,   953,  1052, 12283,     7,\n",
              "        5991,     5,    94,    40,    25,   238,    60,     2,     4,\n",
              "       15812,   804,     2,     7,     4,  9941,   132,     8,    67,\n",
              "           6,    22,    15,     9,   283,     8,  5168,    14,    31,\n",
              "           9,   242,   955,    48,    25,   279,     2,    23,    12,\n",
              "        1685,   195,    25,   238,    60,   796, 13713,     4,   671,\n",
              "           7,  2804,     5,     4,   559,   154,   888,     7,   726,\n",
              "          50,    26,    49,  7008,    15,   566,    30,   579,    21,\n",
              "          64,  2574], dtype=int32)"
            ]
          },
          "metadata": {},
          "execution_count": 42
        }
      ]
    },
    {
      "cell_type": "code",
      "source": [
        "model = Sequential()\n",
        "model.add(Dense(512, activation='relu', input_shape=(maxlen,)))\n",
        "model.add(Dense(128, activation='relu'))\n",
        "model.add(Dense(1, activation='sigmoid'))\n",
        "# model.compile(optimizer='adam',loss='binary_crossentropy', metrics=['accuracy'])\n",
        "model.compile(loss=\"binary_crossentropy\", optimizer=\"sgd\", metrics=['accuracy'])"
      ],
      "metadata": {
        "id": "kyXcfsq-O6cI"
      },
      "execution_count": 51,
      "outputs": []
    },
    {
      "cell_type": "code",
      "source": [
        "history = model.fit(x_train, \n",
        "                    y_train, \n",
        "                    epochs=25,\n",
        "                    batch_size=128,\n",
        "                    validation_split=0.1)"
      ],
      "metadata": {
        "colab": {
          "base_uri": "https://localhost:8080/"
        },
        "id": "58AFhRuIPZkL",
        "outputId": "d954e181-32c7-48d7-98a5-1a565d32fc26"
      },
      "execution_count": 52,
      "outputs": [
        {
          "output_type": "stream",
          "name": "stdout",
          "text": [
            "Epoch 1/25\n",
            "176/176 [==============================] - 2s 8ms/step - loss: nan - accuracy: 0.4990 - val_loss: nan - val_accuracy: 0.5124\n",
            "Epoch 2/25\n",
            "176/176 [==============================] - 1s 7ms/step - loss: nan - accuracy: 0.4986 - val_loss: nan - val_accuracy: 0.5124\n",
            "Epoch 3/25\n",
            "176/176 [==============================] - 1s 7ms/step - loss: nan - accuracy: 0.4986 - val_loss: nan - val_accuracy: 0.5124\n",
            "Epoch 4/25\n",
            "176/176 [==============================] - 1s 7ms/step - loss: nan - accuracy: 0.4986 - val_loss: nan - val_accuracy: 0.5124\n",
            "Epoch 5/25\n",
            "176/176 [==============================] - 1s 7ms/step - loss: nan - accuracy: 0.4986 - val_loss: nan - val_accuracy: 0.5124\n",
            "Epoch 6/25\n",
            "176/176 [==============================] - 1s 7ms/step - loss: nan - accuracy: 0.4986 - val_loss: nan - val_accuracy: 0.5124\n",
            "Epoch 7/25\n",
            "176/176 [==============================] - 1s 7ms/step - loss: nan - accuracy: 0.4986 - val_loss: nan - val_accuracy: 0.5124\n",
            "Epoch 8/25\n",
            "176/176 [==============================] - 1s 7ms/step - loss: nan - accuracy: 0.4986 - val_loss: nan - val_accuracy: 0.5124\n",
            "Epoch 9/25\n",
            "176/176 [==============================] - 1s 7ms/step - loss: nan - accuracy: 0.4986 - val_loss: nan - val_accuracy: 0.5124\n",
            "Epoch 10/25\n",
            "176/176 [==============================] - 1s 7ms/step - loss: nan - accuracy: 0.4986 - val_loss: nan - val_accuracy: 0.5124\n",
            "Epoch 11/25\n",
            "176/176 [==============================] - 1s 7ms/step - loss: nan - accuracy: 0.4986 - val_loss: nan - val_accuracy: 0.5124\n",
            "Epoch 12/25\n",
            "176/176 [==============================] - 1s 7ms/step - loss: nan - accuracy: 0.4986 - val_loss: nan - val_accuracy: 0.5124\n",
            "Epoch 13/25\n",
            "176/176 [==============================] - 1s 7ms/step - loss: nan - accuracy: 0.4986 - val_loss: nan - val_accuracy: 0.5124\n",
            "Epoch 14/25\n",
            "176/176 [==============================] - 1s 7ms/step - loss: nan - accuracy: 0.4986 - val_loss: nan - val_accuracy: 0.5124\n",
            "Epoch 15/25\n",
            "176/176 [==============================] - 1s 7ms/step - loss: nan - accuracy: 0.4986 - val_loss: nan - val_accuracy: 0.5124\n",
            "Epoch 16/25\n",
            "176/176 [==============================] - 1s 7ms/step - loss: nan - accuracy: 0.4986 - val_loss: nan - val_accuracy: 0.5124\n",
            "Epoch 17/25\n",
            "176/176 [==============================] - 1s 7ms/step - loss: nan - accuracy: 0.4986 - val_loss: nan - val_accuracy: 0.5124\n",
            "Epoch 18/25\n",
            "176/176 [==============================] - 1s 7ms/step - loss: nan - accuracy: 0.4986 - val_loss: nan - val_accuracy: 0.5124\n",
            "Epoch 19/25\n",
            "176/176 [==============================] - 1s 7ms/step - loss: nan - accuracy: 0.4986 - val_loss: nan - val_accuracy: 0.5124\n",
            "Epoch 20/25\n",
            "176/176 [==============================] - 1s 7ms/step - loss: nan - accuracy: 0.4986 - val_loss: nan - val_accuracy: 0.5124\n",
            "Epoch 21/25\n",
            "176/176 [==============================] - 1s 7ms/step - loss: nan - accuracy: 0.4986 - val_loss: nan - val_accuracy: 0.5124\n",
            "Epoch 22/25\n",
            "176/176 [==============================] - 1s 7ms/step - loss: nan - accuracy: 0.4986 - val_loss: nan - val_accuracy: 0.5124\n",
            "Epoch 23/25\n",
            "176/176 [==============================] - 1s 6ms/step - loss: nan - accuracy: 0.4986 - val_loss: nan - val_accuracy: 0.5124\n",
            "Epoch 24/25\n",
            "176/176 [==============================] - 1s 7ms/step - loss: nan - accuracy: 0.4986 - val_loss: nan - val_accuracy: 0.5124\n",
            "Epoch 25/25\n",
            "176/176 [==============================] - 1s 7ms/step - loss: nan - accuracy: 0.4986 - val_loss: nan - val_accuracy: 0.5124\n"
          ]
        }
      ]
    },
    {
      "cell_type": "code",
      "source": [
        "plt.plot(history.history['accuracy'], \n",
        "         label='Доля верных ответов на обучающем наборе')\n",
        "plt.plot(history.history['val_accuracy'], \n",
        "         label='Доля верных ответов на проверочном наборе')\n",
        "plt.xlabel('Эпоха обучения')\n",
        "plt.ylabel('Доля верных ответов')\n",
        "plt.legend()\n",
        "plt.show()"
      ],
      "metadata": {
        "colab": {
          "base_uri": "https://localhost:8080/",
          "height": 279
        },
        "id": "pCEr6IKqPlKO",
        "outputId": "4c3905a1-b73b-4f7e-e074-e5d45f9d48a0"
      },
      "execution_count": 53,
      "outputs": [
        {
          "output_type": "display_data",
          "data": {
            "text/plain": [
              "<Figure size 432x288 with 1 Axes>"
            ],
            "image/png": "[encoded data removed]"
          },
          "metadata": {
            "needs_background": "light"
          }
        }
      ]
    },
    {
      "cell_type": "code",
      "source": [
        "scoref = model.evaluate(x_test, y_test, verbose = 1)"
      ],
      "metadata": {
        "colab": {
          "base_uri": "https://localhost:8080/"
        },
        "id": "RgdoAbJuPvPK",
        "outputId": "82b26752-4b4d-41bd-b2a3-c06c80e7d090"
      },
      "execution_count": 32,
      "outputs": [
        {
          "output_type": "stream",
          "name": "stdout",
          "text": [
            "782/782 [==============================] - 1s 2ms/step - loss: 2.0976 - accuracy: 0.5084\n"
          ]
        }
      ]
    },
    {
      "cell_type": "code",
      "source": [
        "print(\"Доля верных ответов на тестовых данных, в процентах:\", round(scoref[1] * 100, 4))"
      ],
      "metadata": {
        "colab": {
          "base_uri": "https://localhost:8080/"
        },
        "id": "Z8vCXokLP1iy",
        "outputId": "65fe297f-7e9b-4e53-bfb6-f0a5a12e5a0f"
      },
      "execution_count": 35,
      "outputs": [
        {
          "output_type": "stream",
          "name": "stdout",
          "text": [
            "Доля верных ответов на тестовых данных, в процентах: 50.836\n"
          ]
        }
      ]
    },
    {
      "cell_type": "markdown",
      "source": [
        "# Представление текста вектором One Hot Encoding"
      ],
      "metadata": {
        "id": "LHM4rFPZfo2B"
      }
    },
    {
      "cell_type": "code",
      "source": [
        "from tensorflow.keras.datasets import imdb\n",
        "from tensorflow.keras.models import Sequential\n",
        "from tensorflow.keras.layers import Dense\n",
        "from tensorflow.keras import utils\n",
        "from tensorflow.keras.preprocessing.sequence import pad_sequences\n",
        "import numpy as np\n",
        "import matplotlib.pyplot as plt\n",
        "%matplotlib inline "
      ],
      "metadata": {
        "id": "EPXTC5cwfyEl"
      },
      "execution_count": 64,
      "outputs": []
    },
    {
      "cell_type": "code",
      "source": [
        "max_words = 10000\n",
        "(x_train, y_train), (x_test, y_test) = imdb.load_data(num_words=max_words)"
      ],
      "metadata": {
        "id": "WsvnZv5Xf1sh"
      },
      "execution_count": 65,
      "outputs": []
    },
    {
      "cell_type": "code",
      "source": [
        "def vectorize_sequences(sequences, dimension=10000):\n",
        "    results = np.zeros((len(sequences), dimension))\n",
        "    for i, sequence in enumerate(sequences):\n",
        "        results[i, sequence] = 1.\n",
        "    return results\n",
        "\n",
        "x_train = vectorize_sequences(x_train, max_words)\n",
        "x_test = vectorize_sequences(x_test, max_words)"
      ],
      "metadata": {
        "id": "uiLB5QPEf19T"
      },
      "execution_count": 66,
      "outputs": []
    },
    {
      "cell_type": "code",
      "source": [
        "x_train[0]"
      ],
      "metadata": {
        "colab": {
          "base_uri": "https://localhost:8080/"
        },
        "id": "fg6zU--TgnWf",
        "outputId": "6662df4c-96a4-4c04-863a-8d1c48a4d1e2"
      },
      "execution_count": 87,
      "outputs": [
        {
          "output_type": "execute_result",
          "data": {
            "text/plain": [
              "array([   5,   25,  100,   43,  838,  112,   50,  670,    2,    9,   35,\n",
              "        480,  284,    5,  150,    4,  172,  112,  167,    2,  336,  385,\n",
              "         39,    4,  172, 4536, 1111,   17,  546,   38,   13,  447,    4,\n",
              "        192,   50,   16,    6,  147, 2025,   19,   14,   22,    4, 1920,\n",
              "       4613,  469,    4,   22,   71,   87,   12,   16,   43,  530,   38,\n",
              "         76,   15,   13, 1247,    4,   22,   17,  515,   17,   12,   16,\n",
              "        626,   18,    2,    5,   62,  386,   12,    8,  316,    8,  106,\n",
              "          5,    4, 2223, 5244,   16,  480,   66, 3785,   33,    4,  130,\n",
              "         12,   16,   38,  619,    5,   25,  124,   51,   36,  135,   48,\n",
              "         25, 1415,   33,    6,   22,   12,  215,   28,   77,   52,    5,\n",
              "         14,  407,   16,   82,    2,    8,    4,  107,  117, 5952,   15,\n",
              "        256,    4,    2,    7, 3766,    5,  723,   36,   71,   43,  530,\n",
              "        476,   26,  400,  317,   46,    7,    4,    2, 1029,   13,  104,\n",
              "         88,    4,  381,   15,  297,   98,   32, 2071,   56,   26,  141,\n",
              "          6,  194, 7486,   18,    4,  226,   22,   21,  134,  476,   26,\n",
              "        480,    5,  144,   30, 5535,   18,   51,   36,   28,  224,   92,\n",
              "         25,  104,    4,  226,   65,   16,   38, 1334,   88,   12,   16,\n",
              "        283,    5,   16, 4472,  113,  103,   32,   15,   16, 5345,   19,\n",
              "        178,   32], dtype=int32)"
            ]
          },
          "metadata": {},
          "execution_count": 87
        }
      ]
    },
    {
      "cell_type": "code",
      "source": [],
      "metadata": {
        "id": "OkSbYt8KiAe9"
      },
      "execution_count": 67,
      "outputs": []
    },
    {
      "cell_type": "code",
      "source": [
        "model = Sequential()\n",
        "model.add(Dense(128, activation='relu', input_shape=(max_words,)))\n",
        "model.add(Dense(64, activation='relu'))\n",
        "model.add(Dense(1, activation='sigmoid'))\n",
        "model.compile(optimizer='adam',loss='binary_crossentropy', metrics=['accuracy'])\n",
        "#model.compile(loss=\"binary_crossentropy\", optimizer=\"sgd\", metrics=['accuracy'])"
      ],
      "metadata": {
        "id": "qKWT4RQ8gvN4"
      },
      "execution_count": 60,
      "outputs": []
    },
    {
      "cell_type": "code",
      "source": [
        "history = model.fit(x_train, \n",
        "                    y_train, \n",
        "                    epochs=25,\n",
        "                    batch_size=128,\n",
        "                    validation_split=0.1)"
      ],
      "metadata": {
        "colab": {
          "base_uri": "https://localhost:8080/"
        },
        "id": "GE-IvN2WhaxX",
        "outputId": "cbedc242-50f8-4546-a21a-dd29fa6a335d"
      },
      "execution_count": 68,
      "outputs": [
        {
          "output_type": "stream",
          "name": "stdout",
          "text": [
            "Epoch 1/25\n",
            "176/176 [==============================] - 5s 30ms/step - loss: 0.3364 - accuracy: 0.8571 - val_loss: 0.2670 - val_accuracy: 0.8944\n",
            "Epoch 2/25\n",
            "176/176 [==============================] - 5s 29ms/step - loss: 0.1565 - accuracy: 0.9414 - val_loss: 0.3017 - val_accuracy: 0.8892\n",
            "Epoch 3/25\n",
            "176/176 [==============================] - 5s 29ms/step - loss: 0.0925 - accuracy: 0.9681 - val_loss: 0.3786 - val_accuracy: 0.8844\n",
            "Epoch 4/25\n",
            "176/176 [==============================] - 5s 29ms/step - loss: 0.0452 - accuracy: 0.9860 - val_loss: 0.4889 - val_accuracy: 0.8792\n",
            "Epoch 5/25\n",
            "176/176 [==============================] - 5s 28ms/step - loss: 0.0176 - accuracy: 0.9956 - val_loss: 0.5717 - val_accuracy: 0.8812\n",
            "Epoch 6/25\n",
            "176/176 [==============================] - 5s 28ms/step - loss: 0.0060 - accuracy: 0.9984 - val_loss: 0.7079 - val_accuracy: 0.8820\n",
            "Epoch 7/25\n",
            "176/176 [==============================] - 5s 28ms/step - loss: 0.0022 - accuracy: 0.9995 - val_loss: 0.8142 - val_accuracy: 0.8804\n",
            "Epoch 8/25\n",
            "176/176 [==============================] - 5s 28ms/step - loss: 9.9593e-04 - accuracy: 0.9999 - val_loss: 0.8930 - val_accuracy: 0.8808\n",
            "Epoch 9/25\n",
            "176/176 [==============================] - 5s 29ms/step - loss: 5.5538e-04 - accuracy: 1.0000 - val_loss: 0.9507 - val_accuracy: 0.8812\n",
            "Epoch 10/25\n",
            "176/176 [==============================] - 5s 29ms/step - loss: 3.2820e-04 - accuracy: 1.0000 - val_loss: 1.0048 - val_accuracy: 0.8816\n",
            "Epoch 11/25\n",
            "176/176 [==============================] - 5s 28ms/step - loss: 2.0550e-04 - accuracy: 1.0000 - val_loss: 1.1092 - val_accuracy: 0.8804\n",
            "Epoch 12/25\n",
            "176/176 [==============================] - 5s 29ms/step - loss: 1.1468e-04 - accuracy: 1.0000 - val_loss: 1.2071 - val_accuracy: 0.8804\n",
            "Epoch 13/25\n",
            "176/176 [==============================] - 5s 28ms/step - loss: 6.7736e-05 - accuracy: 1.0000 - val_loss: 1.2866 - val_accuracy: 0.8800\n",
            "Epoch 14/25\n",
            "176/176 [==============================] - 6s 32ms/step - loss: 4.2730e-05 - accuracy: 1.0000 - val_loss: 1.3506 - val_accuracy: 0.8796\n",
            "Epoch 15/25\n",
            "176/176 [==============================] - 5s 28ms/step - loss: 2.9331e-05 - accuracy: 1.0000 - val_loss: 1.4087 - val_accuracy: 0.8812\n",
            "Epoch 16/25\n",
            "176/176 [==============================] - 5s 29ms/step - loss: 2.1294e-05 - accuracy: 1.0000 - val_loss: 1.4546 - val_accuracy: 0.8800\n",
            "Epoch 17/25\n",
            "176/176 [==============================] - 5s 28ms/step - loss: 1.6095e-05 - accuracy: 1.0000 - val_loss: 1.4996 - val_accuracy: 0.8808\n",
            "Epoch 18/25\n",
            "176/176 [==============================] - 5s 28ms/step - loss: 1.2439e-05 - accuracy: 1.0000 - val_loss: 1.5404 - val_accuracy: 0.8804\n",
            "Epoch 19/25\n",
            "176/176 [==============================] - 5s 29ms/step - loss: 9.9090e-06 - accuracy: 1.0000 - val_loss: 1.5743 - val_accuracy: 0.8804\n",
            "Epoch 20/25\n",
            "176/176 [==============================] - 5s 28ms/step - loss: 7.9879e-06 - accuracy: 1.0000 - val_loss: 1.6082 - val_accuracy: 0.8800\n",
            "Epoch 21/25\n",
            "176/176 [==============================] - 5s 28ms/step - loss: 6.5605e-06 - accuracy: 1.0000 - val_loss: 1.6386 - val_accuracy: 0.8800\n",
            "Epoch 22/25\n",
            "176/176 [==============================] - 5s 28ms/step - loss: 5.4495e-06 - accuracy: 1.0000 - val_loss: 1.6683 - val_accuracy: 0.8800\n",
            "Epoch 23/25\n",
            "176/176 [==============================] - 5s 28ms/step - loss: 4.5730e-06 - accuracy: 1.0000 - val_loss: 1.6952 - val_accuracy: 0.8800\n",
            "Epoch 24/25\n",
            "176/176 [==============================] - 5s 28ms/step - loss: 3.8808e-06 - accuracy: 1.0000 - val_loss: 1.7234 - val_accuracy: 0.8804\n",
            "Epoch 25/25\n",
            "176/176 [==============================] - 5s 28ms/step - loss: 3.3095e-06 - accuracy: 1.0000 - val_loss: 1.7473 - val_accuracy: 0.8804\n"
          ]
        }
      ]
    },
    {
      "cell_type": "code",
      "source": [
        "plt.plot(history.history['accuracy'], \n",
        "         label='Доля верных ответов на обучающем наборе')\n",
        "plt.plot(history.history['val_accuracy'], \n",
        "         label='Доля верных ответов на проверочном наборе')\n",
        "plt.xlabel('Эпоха обучения')\n",
        "plt.ylabel('Доля верных ответов')\n",
        "plt.legend()\n",
        "plt.show()"
      ],
      "metadata": {
        "colab": {
          "base_uri": "https://localhost:8080/",
          "height": 279
        },
        "id": "ylszGDxfhXaa",
        "outputId": "8bf41231-b0cb-4dc6-d082-91a189ab44c7"
      },
      "execution_count": 69,
      "outputs": [
        {
          "output_type": "display_data",
          "data": {
            "text/plain": [
              "<Figure size 432x288 with 1 Axes>"
            ],
            "image/png": "[encoded data removed]"
          },
          "metadata": {
            "needs_background": "light"
          }
        }
      ]
    },
    {
      "cell_type": "markdown",
      "source": [
        "# Представление текста плотным вектором"
      ],
      "metadata": {
        "id": "Rad9MUTYk29y"
      }
    },
    {
      "cell_type": "code",
      "source": [
        "from tensorflow.keras.datasets import imdb\n",
        "from tensorflow.keras.models import Sequential\n",
        "from tensorflow.keras.layers import Dense, Embedding, Flatten, Dropout\n",
        "from tensorflow.keras import utils\n",
        "from tensorflow.keras.preprocessing.sequence import pad_sequences\n",
        "import numpy as np\n",
        "import matplotlib.pyplot as plt\n",
        "from google.colab import files\n",
        "%matplotlib inline "
      ],
      "metadata": {
        "id": "IrxYApJ7k2i4"
      },
      "execution_count": 70,
      "outputs": []
    },
    {
      "cell_type": "code",
      "source": [
        "max_words=10000\n",
        "(x_train, y_train), (x_test, y_test) = imdb.load_data(num_words=max_words)"
      ],
      "metadata": {
        "id": "99cH00W10UEh"
      },
      "execution_count": 71,
      "outputs": []
    },
    {
      "cell_type": "code",
      "source": [
        "x_train[0]"
      ],
      "metadata": {
        "colab": {
          "base_uri": "https://localhost:8080/"
        },
        "id": "2yLt4mupHLpj",
        "outputId": "6476e7d1-1195-4821-e406-81f0764ca929"
      },
      "execution_count": 88,
      "outputs": [
        {
          "output_type": "execute_result",
          "data": {
            "text/plain": [
              "array([   5,   25,  100,   43,  838,  112,   50,  670,    2,    9,   35,\n",
              "        480,  284,    5,  150,    4,  172,  112,  167,    2,  336,  385,\n",
              "         39,    4,  172, 4536, 1111,   17,  546,   38,   13,  447,    4,\n",
              "        192,   50,   16,    6,  147, 2025,   19,   14,   22,    4, 1920,\n",
              "       4613,  469,    4,   22,   71,   87,   12,   16,   43,  530,   38,\n",
              "         76,   15,   13, 1247,    4,   22,   17,  515,   17,   12,   16,\n",
              "        626,   18,    2,    5,   62,  386,   12,    8,  316,    8,  106,\n",
              "          5,    4, 2223, 5244,   16,  480,   66, 3785,   33,    4,  130,\n",
              "         12,   16,   38,  619,    5,   25,  124,   51,   36,  135,   48,\n",
              "         25, 1415,   33,    6,   22,   12,  215,   28,   77,   52,    5,\n",
              "         14,  407,   16,   82,    2,    8,    4,  107,  117, 5952,   15,\n",
              "        256,    4,    2,    7, 3766,    5,  723,   36,   71,   43,  530,\n",
              "        476,   26,  400,  317,   46,    7,    4,    2, 1029,   13,  104,\n",
              "         88,    4,  381,   15,  297,   98,   32, 2071,   56,   26,  141,\n",
              "          6,  194, 7486,   18,    4,  226,   22,   21,  134,  476,   26,\n",
              "        480,    5,  144,   30, 5535,   18,   51,   36,   28,  224,   92,\n",
              "         25,  104,    4,  226,   65,   16,   38, 1334,   88,   12,   16,\n",
              "        283,    5,   16, 4472,  113,  103,   32,   15,   16, 5345,   19,\n",
              "        178,   32], dtype=int32)"
            ]
          },
          "metadata": {},
          "execution_count": 88
        }
      ]
    },
    {
      "cell_type": "markdown",
      "source": [
        "## Подготовка данных для обучения"
      ],
      "metadata": {
        "id": "cNaGXv4Y0Zku"
      }
    },
    {
      "cell_type": "code",
      "source": [
        "maxlen = 200\n",
        "x_train = pad_sequences(x_train, maxlen=maxlen, padding='post')\n",
        "x_test = pad_sequences(x_test, maxlen=maxlen, padding='post')"
      ],
      "metadata": {
        "id": "FbWEWhzc0bKe"
      },
      "execution_count": 72,
      "outputs": []
    },
    {
      "cell_type": "code",
      "source": [
        "model = Sequential()\n",
        "model.add(Embedding(max_words, 4, input_length=maxlen))\n",
        "model.add(Dropout(0.25))\n",
        "model.add(Flatten())\n",
        "model.add(Dense(1, activation='sigmoid'))\n",
        "model.compile(optimizer='adam', \n",
        "              loss='binary_crossentropy', \n",
        "              metrics=['accuracy'])"
      ],
      "metadata": {
        "id": "6e56sP290ePo"
      },
      "execution_count": 89,
      "outputs": []
    },
    {
      "cell_type": "code",
      "source": [
        "history = model.fit(x_train, \n",
        "                    y_train, \n",
        "                    epochs=15,\n",
        "                    batch_size=128,\n",
        "                    validation_split=0.1)"
      ],
      "metadata": {
        "colab": {
          "base_uri": "https://localhost:8080/"
        },
        "id": "chOSAJEh0g7Y",
        "outputId": "66a660bd-6883-47bc-e325-71810868db5e"
      },
      "execution_count": 90,
      "outputs": [
        {
          "output_type": "stream",
          "name": "stdout",
          "text": [
            "Epoch 1/15\n",
            "176/176 [==============================] - 2s 8ms/step - loss: 0.6844 - accuracy: 0.5736 - val_loss: 0.6505 - val_accuracy: 0.7128\n",
            "Epoch 2/15\n",
            "176/176 [==============================] - 1s 7ms/step - loss: 0.5405 - accuracy: 0.7836 - val_loss: 0.4404 - val_accuracy: 0.8360\n",
            "Epoch 3/15\n",
            "176/176 [==============================] - 1s 7ms/step - loss: 0.3687 - accuracy: 0.8657 - val_loss: 0.3507 - val_accuracy: 0.8616\n",
            "Epoch 4/15\n",
            "176/176 [==============================] - 1s 8ms/step - loss: 0.2914 - accuracy: 0.8925 - val_loss: 0.3148 - val_accuracy: 0.8700\n",
            "Epoch 5/15\n",
            "176/176 [==============================] - 1s 8ms/step - loss: 0.2501 - accuracy: 0.9088 - val_loss: 0.3001 - val_accuracy: 0.8768\n",
            "Epoch 6/15\n",
            "176/176 [==============================] - 1s 8ms/step - loss: 0.2216 - accuracy: 0.9197 - val_loss: 0.2904 - val_accuracy: 0.8828\n",
            "Epoch 7/15\n",
            "176/176 [==============================] - 2s 9ms/step - loss: 0.1998 - accuracy: 0.9276 - val_loss: 0.2875 - val_accuracy: 0.8876\n",
            "Epoch 8/15\n",
            "176/176 [==============================] - 2s 9ms/step - loss: 0.1819 - accuracy: 0.9354 - val_loss: 0.2832 - val_accuracy: 0.8852\n",
            "Epoch 9/15\n",
            "176/176 [==============================] - 2s 9ms/step - loss: 0.1678 - accuracy: 0.9423 - val_loss: 0.2832 - val_accuracy: 0.8876\n",
            "Epoch 10/15\n",
            "176/176 [==============================] - 2s 9ms/step - loss: 0.1525 - accuracy: 0.9479 - val_loss: 0.2851 - val_accuracy: 0.8884\n",
            "Epoch 11/15\n",
            "176/176 [==============================] - 2s 9ms/step - loss: 0.1427 - accuracy: 0.9537 - val_loss: 0.2870 - val_accuracy: 0.8868\n",
            "Epoch 12/15\n",
            "176/176 [==============================] - 2s 9ms/step - loss: 0.1322 - accuracy: 0.9590 - val_loss: 0.2918 - val_accuracy: 0.8848\n",
            "Epoch 13/15\n",
            "176/176 [==============================] - 2s 9ms/step - loss: 0.1229 - accuracy: 0.9613 - val_loss: 0.2982 - val_accuracy: 0.8844\n",
            "Epoch 14/15\n",
            "176/176 [==============================] - 2s 9ms/step - loss: 0.1176 - accuracy: 0.9630 - val_loss: 0.2983 - val_accuracy: 0.8832\n",
            "Epoch 15/15\n",
            "176/176 [==============================] - 2s 9ms/step - loss: 0.1078 - accuracy: 0.9664 - val_loss: 0.3069 - val_accuracy: 0.8804\n"
          ]
        }
      ]
    },
    {
      "cell_type": "code",
      "source": [
        "plt.plot(history.history['accuracy'], \n",
        "         label='Доля верных ответов на обучающем наборе')\n",
        "plt.plot(history.history['val_accuracy'], \n",
        "         label='Доля верных ответов на проверочном наборе')\n",
        "plt.xlabel('Эпоха обучения')\n",
        "plt.ylabel('Доля верных ответов')\n",
        "plt.legend()\n",
        "plt.show()"
      ],
      "metadata": {
        "colab": {
          "base_uri": "https://localhost:8080/",
          "height": 279
        },
        "id": "DbjkBXgd0iV-",
        "outputId": "b51e4aa2-36ae-4d5d-9d05-7ab6bf5d6066"
      },
      "execution_count": 91,
      "outputs": [
        {
          "output_type": "display_data",
          "data": {
            "text/plain": [
              "<Figure size 432x288 with 1 Axes>"
            ],
            "image/png": "[encoded data removed]"
          },
          "metadata": {
            "needs_background": "light"
          }
        }
      ]
    },
    {
      "cell_type": "code",
      "source": [
        "scores = model.evaluate(x_test, y_test, verbose=1)"
      ],
      "metadata": {
        "colab": {
          "base_uri": "https://localhost:8080/"
        },
        "id": "K-dXYmqc0k7U",
        "outputId": "c0a05720-3dcd-486e-dadf-5e535551eccd"
      },
      "execution_count": 92,
      "outputs": [
        {
          "output_type": "stream",
          "name": "stdout",
          "text": [
            "782/782 [==============================] - 1s 2ms/step - loss: 0.3311 - accuracy: 0.8648\n"
          ]
        }
      ]
    },
    {
      "cell_type": "code",
      "source": [
        "embedding_matrix = model.layers[0].get_weights()[0]\n",
        "embedding_matrix[:5]"
      ],
      "metadata": {
        "colab": {
          "base_uri": "https://localhost:8080/"
        },
        "id": "S0oTf_gT13CM",
        "outputId": "a162079b-5469-4bc3-f532-20f5cdf052c7"
      },
      "execution_count": 93,
      "outputs": [
        {
          "output_type": "execute_result",
          "data": {
            "text/plain": [
              "array([[ 0.016005  , -0.02140083, -0.01092433,  0.02664191],\n",
              "       [ 0.05128385, -0.07283077,  0.03626959,  0.00167863],\n",
              "       [ 0.04958816, -0.00707554,  0.01555467, -0.02983766],\n",
              "       [ 0.00556195,  0.00230382,  0.04271441, -0.03550767],\n",
              "       [-0.07744127,  0.01188505, -0.00349771,  0.01715998]],\n",
              "      dtype=float32)"
            ]
          },
          "metadata": {},
          "execution_count": 93
        }
      ]
    },
    {
      "cell_type": "code",
      "source": [
        "word_index_org = imdb.get_word_index()"
      ],
      "metadata": {
        "id": "36UJbp2c2ESY"
      },
      "execution_count": 94,
      "outputs": []
    },
    {
      "cell_type": "code",
      "source": [
        "word_index = dict()\n",
        "for word,number in word_index_org.items():\n",
        "    word_index[word] = number + 3\n",
        "word_index[\"<Заполнитель>\"] = 0\n",
        "word_index[\"<Начало последовательности>\"] = 1\n",
        "word_index[\"<Неизвестное слово>\"] = 2  \n",
        "word_index[\"<Не используется>\"] = 3"
      ],
      "metadata": {
        "id": "2HEr_WWn2F2p"
      },
      "execution_count": 95,
      "outputs": []
    },
    {
      "cell_type": "code",
      "source": [
        "word = 'good'\n",
        "word_number = word_index[word]\n",
        "print('Номер слова', word_number)\n",
        "print('Вектор для слова', embedding_matrix[word_number])"
      ],
      "metadata": {
        "colab": {
          "base_uri": "https://localhost:8080/"
        },
        "id": "b28iH6I72K62",
        "outputId": "32de3905-f10d-42fd-8abe-3baf81378694"
      },
      "execution_count": 96,
      "outputs": [
        {
          "output_type": "stream",
          "name": "stdout",
          "text": [
            "Номер слова 52\n",
            "Вектор для слова [-0.10201871  0.0777822  -0.12821081  0.17287652]\n"
          ]
        }
      ]
    },
    {
      "cell_type": "code",
      "source": [
        "plt.scatter(embedding_matrix[:,0], embedding_matrix[:,1],embedding_matrix[:,2],embedding_matrix[:,3])"
      ],
      "metadata": {
        "colab": {
          "base_uri": "https://localhost:8080/",
          "height": 285
        },
        "id": "I8izFctb2iIx",
        "outputId": "4c76669d-4e43-4d8f-e803-6bbc78086716"
      },
      "execution_count": 102,
      "outputs": [
        {
          "output_type": "execute_result",
          "data": {
            "text/plain": [
              "<matplotlib.collections.PathCollection at 0x7fb4e1d01e50>"
            ]
          },
          "metadata": {},
          "execution_count": 102
        },
        {
          "output_type": "display_data",
          "data": {
            "text/plain": [
              "<Figure size 432x288 with 1 Axes>"
            ],
            "image/png": "[encoded data removed]"
          },
          "metadata": {
            "needs_background": "light"
          }
        }
      ]
    },
    {
      "cell_type": "code",
      "source": [
        "review = ['brilliant', 'fantastic', 'amazing', 'good',\n",
        "          'bad', 'awful','crap', 'terrible', 'trash']\n",
        "enc_review = []\n",
        "for word in review:\n",
        "    enc_review.append(word_index[word])\n",
        "enc_review"
      ],
      "metadata": {
        "colab": {
          "base_uri": "https://localhost:8080/"
        },
        "id": "yCWERJ2a2mQu",
        "outputId": "7c2b2e88-d6a3-4473-98fa-718cd6cc58ec"
      },
      "execution_count": 103,
      "outputs": [
        {
          "output_type": "execute_result",
          "data": {
            "text/plain": [
              "[530, 777, 480, 52, 78, 373, 595, 394, 1157]"
            ]
          },
          "metadata": {},
          "execution_count": 103
        }
      ]
    },
    {
      "cell_type": "code",
      "source": [
        "review_vectors = embedding_matrix[enc_review]\n",
        "review_vectors"
      ],
      "metadata": {
        "colab": {
          "base_uri": "https://localhost:8080/"
        },
        "id": "nf-Q7cvn2pPZ",
        "outputId": "a67ffa27-893e-4a5f-9b19-e75443f602c3"
      },
      "execution_count": 104,
      "outputs": [
        {
          "output_type": "execute_result",
          "data": {
            "text/plain": [
              "array([[-0.14344887,  0.42040852, -0.31949285,  0.39573997],\n",
              "       [-0.15832263,  0.3407971 , -0.48876083,  0.5020949 ],\n",
              "       [-0.3631627 ,  0.4287316 , -0.46967047,  0.43350175],\n",
              "       [-0.10201871,  0.0777822 , -0.12821081,  0.17287652],\n",
              "       [ 0.13708955, -0.37140006,  0.3722186 , -0.381848  ],\n",
              "       [ 0.6537899 , -0.77786726,  0.91883725, -0.93387073],\n",
              "       [ 0.06687962, -0.34755394,  0.4483973 , -0.45306575],\n",
              "       [ 0.34410152, -0.5594526 ,  0.5923354 , -0.6138675 ],\n",
              "       [ 0.2357039 , -0.13775481,  0.18890068, -0.15427738]],\n",
              "      dtype=float32)"
            ]
          },
          "metadata": {},
          "execution_count": 104
        }
      ]
    },
    {
      "cell_type": "code",
      "source": [
        "plt.scatter(review_vectors[:,0], review_vectors[:,1],review_vectors[:,2],review_vectors[:,3])\n",
        "for i, txt in enumerate(review):\n",
        "    plt.annotate(txt, (review_vectors[i,0], review_vectors[i,1]))"
      ],
      "metadata": {
        "colab": {
          "base_uri": "https://localhost:8080/",
          "height": 265
        },
        "id": "c06hnvRa2qWG",
        "outputId": "9be5ac9b-e849-4119-87e8-068be52d967f"
      },
      "execution_count": 108,
      "outputs": [
        {
          "output_type": "display_data",
          "data": {
            "text/plain": [
              "<Figure size 432x288 with 1 Axes>"
            ],
            "image/png": "[encoded data removed]"
          },
          "metadata": {
            "needs_background": "light"
          }
        }
      ]
    }
  ]
}